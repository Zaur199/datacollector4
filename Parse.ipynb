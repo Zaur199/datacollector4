{
 "cells": [
  {
   "cell_type": "code",
   "outputs": [],
   "source": [
    "import requests\n",
    "from lxml import html\n",
    "from pymongo import MongoClient\n",
    "import pandas as pd\n",
    "import threading\n",
    "import logging\n",
    "from fake_useragent import UserAgent\n",
    "import os\n",
    "import time"
   ],
   "metadata": {
    "collapsed": false,
    "ExecuteTime": {
     "end_time": "2024-04-24T20:42:48.435780Z",
     "start_time": "2024-04-24T20:42:48.012855Z"
    }
   },
   "id": "d8c75b1e6a9ac789",
   "execution_count": 1
  },
  {
   "cell_type": "code",
   "outputs": [],
   "source": [
    "#Пропишем базовый конфигурационный журнал\n",
    "logging.basicConfig(level=logging.INFO)"
   ],
   "metadata": {
    "collapsed": false,
    "ExecuteTime": {
     "end_time": "2024-04-24T20:42:48.438980Z",
     "start_time": "2024-04-24T20:42:48.436821Z"
    }
   },
   "id": "44231c55f3b10710",
   "execution_count": 2
  },
  {
   "cell_type": "code",
   "outputs": [],
   "source": [
    "#Пропишем строку агента пользователя в заголовке HTTP-запроса, чтобы имитировать веб-браузер и избежать блокировки сервером\n",
    "headers = {\n",
    "    'User_Agent': UserAgent().random\n",
    "}"
   ],
   "metadata": {
    "collapsed": false,
    "ExecuteTime": {
     "end_time": "2024-04-24T20:42:49.261312Z",
     "start_time": "2024-04-24T20:42:49.257760Z"
    }
   },
   "id": "6af95c0c335a87b1",
   "execution_count": 3
  },
  {
   "cell_type": "code",
   "outputs": [],
   "source": [
    "#Создадим класс Scraper и пропишем в нём функцию scrape_data, которая скрейпит данные с сайта\n",
    "class Scraper:\n",
    "    def __init__(self, url):\n",
    "        self.url = url\n",
    "\n",
    "    def scrape_data(self) -> list:\n",
    "        response = requests.get(self.url, headers=headers)\n",
    "        tree = html.fromstring(response.content)\n",
    "        rows = tree.xpath(\"//table[@class='records-table']/tbody/tr\")\n",
    "        \n",
    "        result_list = list()\n",
    "        for row in rows:\n",
    "            row_data = row.xpath(\".//td/text()\")\n",
    "            data_info = {}\n",
    "            data_info['Rank'] = int(row_data[0].strip())\n",
    "            data_info['Mark'] = float(row_data[1].strip())\n",
    "            data_info['WIND'] = row_data[2].strip() if row_data[2].strip() else \"0\"\n",
    "            data_info['Competitor'] = row.xpath(\".//td[4]/a/text()\")[0].strip()\n",
    "            data_info['DOB'] = row_data[5].strip()\n",
    "            data_info['Nat'] = row_data[7].strip()\n",
    "            data_info['Pos'] = row_data[8].strip()\n",
    "            data_info['Venue'] = (row_data[9].strip())\n",
    "            data_info['Date'] = row_data[10].strip()\n",
    "            data_info['ResultsScore'] = int(row_data[11].strip())\n",
    "            result_list.append(data_info)\n",
    "        return result_list"
   ],
   "metadata": {
    "collapsed": false,
    "ExecuteTime": {
     "end_time": "2024-04-24T20:42:49.615180Z",
     "start_time": "2024-04-24T20:42:49.609764Z"
    }
   },
   "id": "fba4b1d47e5e22a",
   "execution_count": 4
  },
  {
   "cell_type": "code",
   "outputs": [],
   "source": [
    "#Создадим класс DataSaver и пропишем в нём функции save_to_mongo, которая сохранит данные в базу данных mongodb, и функцию save_to_csv,\n",
    "#которая сохраняет полученные данные в csv файл\n",
    "class DataSaver:\n",
    "    def __init__(self, data_list):\n",
    "        self.data_list = data_list\n",
    "\n",
    "    def save_to_mongo(self) -> None:\n",
    "        try:\n",
    "            client = MongoClient('localhost', 27017)\n",
    "            sport_db = client['sport_db']\n",
    "            results_table = sport_db['results_table']\n",
    "            results_table.insert_many(self.data_list)\n",
    "            logging.info(\"Data saved to MongoDB\")\n",
    "        except Exception as e:\n",
    "            logging.error(f\"Error saving data to MongoDB: {e}\")\n",
    "            \n",
    "    def save_to_csv(self) -> None:\n",
    "        try:\n",
    "            df = pd.DataFrame(self.data_list)\n",
    "            mode = 'a' if os.path.exists('results_table.csv') else 'w'\n",
    "            df.to_csv('results_table.csv', mode=mode, index=False, header=not os.path.exists('results_table.csv'))\n",
    "            logging.info(\"Data saved to CSV\")\n",
    "        except Exception as e:\n",
    "            logging.error(f\"Error saving data to CSV: {e}\")"
   ],
   "metadata": {
    "collapsed": false,
    "ExecuteTime": {
     "end_time": "2024-04-24T20:42:49.867908Z",
     "start_time": "2024-04-24T20:42:49.861226Z"
    }
   },
   "id": "c676676ab0ec624f",
   "execution_count": 5
  },
  {
   "cell_type": "code",
   "outputs": [],
   "source": [
    "#Пропишем главную функцию, которая связывает все функции, и пропишем потоки для ускорения работы(скрейпинга данных с сайта)\n",
    "def main_function():\n",
    "    threads = []\n",
    "    for i in range(1, 19):\n",
    "        url = f\"https://worldathletics.org/records/all-time-toplists/sprints/60-metres/all/women/senior?page={i}\"\n",
    "        scraper = Scraper(url)\n",
    "        data_list = scraper.scrape_data()\n",
    "        \n",
    "        mongodb_saver = DataSaver(data_list)\n",
    "        csv_saver = DataSaver(data_list)\n",
    "        \n",
    "        thread1 = threading.Thread(target=mongodb_saver.save_to_mongo)\n",
    "        thread2 = threading.Thread(target=csv_saver.save_to_csv)\n",
    "        \n",
    "        threads.append(thread1)\n",
    "        threads.append(thread2)\n",
    "        \n",
    "    for thread in threads:\n",
    "        thread.start()\n",
    "    for thread in threads:\n",
    "        thread.join()\n",
    "    logging.info(\"All data saved\")"
   ],
   "metadata": {
    "collapsed": false,
    "ExecuteTime": {
     "end_time": "2024-04-24T20:42:50.193798Z",
     "start_time": "2024-04-24T20:42:50.189933Z"
    }
   },
   "id": "2ac3e56b03220cbe",
   "execution_count": 6
  },
  {
   "cell_type": "code",
   "outputs": [
    {
     "name": "stderr",
     "output_type": "stream",
     "text": [
      "INFO:root:Data saved to CSV\n",
      "INFO:root:Data saved to CSV\n",
      "INFO:root:Data saved to CSV\n",
      "INFO:root:Data saved to CSV\n",
      "INFO:root:Data saved to CSV\n",
      "INFO:root:Data saved to CSV\n",
      "INFO:root:Data saved to MongoDB\n",
      "INFO:root:Data saved to MongoDB\n",
      "INFO:root:Data saved to CSV\n",
      "INFO:root:Data saved to MongoDB\n",
      "INFO:root:Data saved to CSV\n",
      "INFO:root:Data saved to CSV\n",
      "INFO:root:Data saved to MongoDB\n",
      "INFO:root:Data saved to MongoDB\n",
      "INFO:root:Data saved to MongoDB\n",
      "INFO:root:Data saved to MongoDB\n",
      "INFO:root:Data saved to CSV\n",
      "INFO:root:Data saved to CSV\n",
      "INFO:root:Data saved to CSV\n",
      "INFO:root:Data saved to CSV\n",
      "INFO:root:Data saved to CSV\n",
      "INFO:root:Data saved to MongoDB\n",
      "INFO:root:Data saved to CSV\n",
      "INFO:root:Data saved to CSV\n",
      "INFO:root:Data saved to CSV\n",
      "INFO:root:Data saved to CSV\n",
      "INFO:root:Data saved to MongoDB\n",
      "INFO:root:Data saved to MongoDB\n",
      "INFO:root:Data saved to MongoDB\n",
      "INFO:root:Data saved to MongoDB\n",
      "INFO:root:Data saved to MongoDB\n",
      "INFO:root:Data saved to MongoDB\n",
      "INFO:root:Data saved to MongoDB\n",
      "INFO:root:Data saved to MongoDB\n",
      "INFO:root:Data saved to MongoDB\n",
      "INFO:root:Data saved to MongoDB\n",
      "INFO:root:All data saved\n"
     ]
    }
   ],
   "source": [
    "#Запустим код, и выведим сообщение о работе \n",
    "if __name__ == '__main__':\n",
    "    main_function()\n",
    "    time.sleep(1)"
   ],
   "metadata": {
    "collapsed": false,
    "ExecuteTime": {
     "end_time": "2024-04-24T20:56:26.491947Z",
     "start_time": "2024-04-24T20:42:50.772222Z"
    }
   },
   "id": "a702f7564eecf9e7",
   "execution_count": 7
  },
  {
   "cell_type": "code",
   "outputs": [],
   "source": [],
   "metadata": {
    "collapsed": false
   },
   "id": "432e3873d2f8250e"
  }
 ],
 "metadata": {
  "kernelspec": {
   "display_name": "Python 3",
   "language": "python",
   "name": "python3"
  },
  "language_info": {
   "codemirror_mode": {
    "name": "ipython",
    "version": 3
   },
   "file_extension": ".py",
   "mimetype": "text/x-python",
   "name": "python",
   "nbconvert_exporter": "python",
   "pygments_lexer": "ipython3",
   "version": "3.11.7"
  }
 },
 "nbformat": 4,
 "nbformat_minor": 5
}
